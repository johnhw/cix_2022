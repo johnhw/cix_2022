{
 "cells": [
  {
   "cell_type": "code",
   "execution_count": null,
   "metadata": {},
   "outputs": [],
   "source": [
    "import pandas as pd \n",
    "import numpy as np\n",
    "import scipy.stats as ss\n",
    "import time\n",
    "\n",
    "import matplotlib as mpl\n",
    "import matplotlib.pyplot as plt\n",
    "import numpy as np\n",
    "from IPython.display import display\n",
    "# set some styling defaults for matplotlib\n",
    "plt.style.use(\"seaborn-talk\")\n",
    "mpl.rcParams[\"figure.dpi\"] = 90  # change this to set apparent figure size\n",
    "mpl.rcParams[\"figure.figsize\"] = (7, 3)\n",
    "mpl.rcParams[\"figure.frameon\"] = False\n",
    "\n",
    "# set decimal precision to 3 dec. places\n",
    "%precision 3"
   ]
  },
  {
   "cell_type": "code",
   "execution_count": null,
   "metadata": {},
   "outputs": [],
   "source": [
    "#%pip install pfilter\n",
    "#%pip install ipycanvas\n",
    "# uncomment and run the above if you don't have pfilter and/or ipycanvas installed"
   ]
  },
  {
   "cell_type": "code",
   "execution_count": null,
   "metadata": {},
   "outputs": [],
   "source": [
    "from pfilter import ParticleFilter, gaussian_noise, squared_error, independent_sample\n",
    "from scipy.stats import norm, gamma, uniform \n",
    "from ipycanvas import Canvas, hold_canvas\n",
    "from ipywidgets import Output, Button, Label\n"
   ]
  },
  {
   "cell_type": "markdown",
   "metadata": {},
   "source": [
    "# Example 1: probabilistic filters\n",
    "\n",
    "## Outcomes\n",
    "You will understand:\n",
    "* How probabilistic filtering works\n",
    "* How to implement basic probabilistic filters\n",
    "* How filtering can be used to extract hidden states\n",
    "* How to integrate a particle filter into an interactive system\n",
    "\n",
    "    "
   ]
  },
  {
   "cell_type": "markdown",
   "metadata": {},
   "source": [
    "\n",
    "## Goal\n",
    "* Estimate a hidden state in a continuous process from a stream of observations.\n",
    "* Be able to deal with missing or noisy observations.\n",
    "* Be able to project forward into the future as needed.\n",
    "* Be able to quantify uncertainty and the expected value of possible states.\n",
    "\n",
    "## Task\n",
    "We'll build a simple \"swipe\" gesture recogniser. This is intended to recognise a swipe-left or swipe-right movement. Obviously, this is a relatively simple problem to solve, but we'll see how to properly represent uncertainty when approaching it from a Bayesian perspective.\n",
    "\n",
    "<img src=\"imgs/swipe.png\" width=\"50%\">\n",
    "\n",
    "## Process\n",
    "* We build a **filter**, which in this context means a process that combines observations that occur sequentially.\n",
    "* Note: it's not really the same as a filter in the sense of signal processing, though the concept of processing sequential signals is the same.\n",
    "    \n",
    "* The data generating process is assumed to have some temporal coherence; predictions of the future depend on past states.\n",
    "* Typically, we make a *Markov assumption*: that the current unobserved state encodes everything we know about the next state.\n",
    "    \n",
    "### Predictor-corrector\n",
    "\n",
    "The concept is simple: we first build a model that just predicts what we think might be going on -- a pure simulator. Then we can take observations and use them to \"filter out\" predictions that are unrealistic given those observations. This is formulated as a Bayesian belief update.\n",
    "\n",
    "* Prior at time t + evidence at time t -> posterior at time t\n",
    "\n",
    "$$P(X_{t+1}|Y_t, X_t) \\propto P(Y_t | X_{t+1}) P(X_{t+1})$$\n",
    "$$P(X_{t+1}|Y_t, X_t) \\propto P(Y_t | X_{t+1}) P(X_{t})$$\n",
    "\n",
    "* (we don't typically care about normalising this distribution, we just want to track *relative* likelihoods of hypotheses)\n",
    "\n",
    "<img src=\"imgs/stochastic.png\" width=\"50%\">"
   ]
  },
  {
   "cell_type": "markdown",
   "metadata": {},
   "source": [
    "## Package: `pfilter`\n",
    "\n",
    "We'll use the `pfilter` package for this example. This implements a simple interface to a particle filter. *Caveat: I wrote `pfilter`, so my definition of simple may not be everyone's!*\n",
    "\n",
    "A particle filter just represents the current posterior distribution as a collection of samples (definite estimates) and updates them given evidence observed, and a forward model of what evidence *would be expected* for any given sample. We can include dynamics, which specify how the unknown state is believed to be changing over time.\n",
    "\n",
    "This is a sequential Monte Carlo: we push forward a block of samples through some expected dynamics, compare them to an observation, and reproduce those samples that best approximate the current observation: predict-correct."
   ]
  },
  {
   "cell_type": "markdown",
   "metadata": {},
   "source": [
    "## Setup\n",
    "\n",
    "### Latent variables\n",
    "\n",
    "We need define the variables we want to infer; we'll form distributions over these. We'll stick to a very simple model, which has three variables:\n",
    "\n",
    "* `direction`: + or - for left or right swipe\n",
    "* `phase`: the proportion through the swipe, as a number from 0->1\n",
    "* `phase_rate`: the current rate of movement through the swipe, as a number from 0->1\n",
    "\n",
    "From this, we'll compute a distribution over whether or not a gesture is completed, which we can use to trigger actions. We'll do this by computing the how much evidence there is that the user is at the end of a swipe, with a consistent direction."
   ]
  },
  {
   "cell_type": "markdown",
   "metadata": {},
   "source": [
    "### Priors\n",
    "We need to set prior distributions on these variables. We'll assume we can equally likely be going left or right, and that swipes \n",
    "start at the beginning (phase close to 0) and have some variable possible rates."
   ]
  },
  {
   "cell_type": "code",
   "execution_count": null,
   "metadata": {},
   "outputs": [],
   "source": [
    "columns = [\"direction\", \"phase\", \"phase_rate\"]\n",
    "\n",
    "# some basic guesses for how these variables might start out\n",
    "# note: direction is actually -1, 0 or 1, but I've used a continuous\n",
    "# distribution just to make things a bit easier\n",
    "prior_fn = independent_sample([uniform(loc=-1, scale=1).rvs, \n",
    "                                uniform(loc=0.0, scale=0.2).rvs, \n",
    "                                norm(loc=0,scale=0.02).rvs])\n",
    "                               \n",
    "prior_fn(10)\n"
   ]
  },
  {
   "cell_type": "markdown",
   "metadata": {},
   "source": [
    "### Dynamic model\n",
    "Now we need a model of what would happen in the future *if we had no information about what the user was doing* -- that is, a pure forward simulator. We'll assume that a gesture that is active will continue in the direction it was going, at the same phase rate."
   ]
  },
  {
   "cell_type": "code",
   "execution_count": null,
   "metadata": {},
   "outputs": [],
   "source": [
    "def dynamics(x):\n",
    "    # force direction to be -1, 0, 1\n",
    "    direction = np.sign(np.where(np.abs(x[:,0])<0.5, 0, x[:,0]))\n",
    "    # phase += direction * phase_rate\n",
    "    x[:,1] = x[:,1] + direction * x[:,2] \n",
    "    return x"
   ]
  },
  {
   "cell_type": "code",
   "execution_count": null,
   "metadata": {},
   "outputs": [],
   "source": [
    "from threading import Event, Thread, Lock\n",
    "\n",
    "\n",
    "class FilterCanvas:\n",
    "    def __init__(self, pf, observing=False):        \n",
    "        self.out = Output()\n",
    "        self.pf = pf\n",
    "        self.canvas = Canvas(width=500, height=500)                \n",
    "        self.mouse_x = 0.0\n",
    "        \n",
    "        self.canvas.on_mouse_move(self.handle_mouse_move)\n",
    "        self.observing = observing        \n",
    "        self.world_lock = Lock()\n",
    "        self.stop = Button(icon=\"stop\")\n",
    "        self.label = Label(\"\")\n",
    "        self.stop.on_click(self.stop_loop)\n",
    "        self.stopping = Event()\n",
    "        self.stopping.clear()\n",
    "\n",
    "    def stop_loop(self, event):\n",
    "        self.stopping.set()        \n",
    "        \n",
    "    def start(self):\n",
    "        Thread(target=self.simulate).start()\n",
    "        \n",
    "    def handle_mouse_move(self, x, y):        \n",
    "        if self.stopping.is_set() or not self.observing:\n",
    "            return \n",
    "        self.canvas.fill_style = \"red\"\n",
    "        self.canvas.fill_rect(x,y,4)                        \n",
    "        self.mouse_x = (x - self.canvas.width/2.0) / (self.canvas.width/2.0)        \n",
    "        \n",
    "       \n",
    "    def draw_particles(self, particles, y):\n",
    "        self.canvas.fill_style = \"blue\"                \n",
    "        x = particles[:,1] * np.sign(particles[:,0]) * self.canvas.width/ 4 + self.canvas.width/2                \n",
    "        self.canvas.fill_rects(x, y, 4)\n",
    "        \n",
    "                \n",
    "    def simulate(self):\n",
    "        y_pos = 0\n",
    "        for i in range(20_000):            \n",
    "            if self.stopping.is_set():\n",
    "                break\n",
    "            with hold_canvas():\n",
    "                particles = self.pf.original_particles\n",
    "                if not self.observing:\n",
    "                    y = np.full(len(particles), y_pos) + y_pos\n",
    "                    self.draw_particles(particles, y)\n",
    "                    y_pos += 2\n",
    "                else:\n",
    "                    y = np.random.normal(self.canvas.height/2, 10, len(particles))\n",
    "                    self.canvas.clear()                \n",
    "                    self.draw_particles(particles, y)                \n",
    "                if self.observing and self.mouse_x is not None:\n",
    "                    pf.update(np.array([self.mouse_x]))\n",
    "                else:\n",
    "                    pf.update() \n",
    "                self.mouse_x = None\n",
    "                time.sleep(0.02)\n",
    "          \n",
    "    def draw(self):\n",
    "        display(self.label)\n",
    "        display(self.stop)\n",
    "        display(self.out)\n",
    "        display(self.canvas)\n",
    "        "
   ]
  },
  {
   "cell_type": "code",
   "execution_count": null,
   "metadata": {},
   "outputs": [],
   "source": [
    "pf = ParticleFilter(prior_fn=prior_fn, n_particles=100, dynamics_fn=dynamics)        \n",
    "c = FilterCanvas(pf)\n",
    "c.draw()\n",
    "c.start()"
   ]
  },
  {
   "cell_type": "markdown",
   "metadata": {},
   "source": [
    "### Diffusion\n",
    "The dynamics we implemented are *deterministic*; they assume that, for example, an initial hypothesis that a gesture is swiping left at 10px per second will continue to behave that way in the future. Given that we know our estimation is uncertain, this is a very strong assumption. A way to ameliorate this is to introduce some **diffusion**: stochastic (random) dynamics, that cause the distribution over latent states to \"spread out\" over time. This is trivial to implement: we just add a bit of noise to each of our particles at each time step:"
   ]
  },
  {
   "cell_type": "code",
   "execution_count": null,
   "metadata": {},
   "outputs": [],
   "source": [
    "def noise(x):\n",
    "    return gaussian_noise(x, sigmas=[0.00, 0.01, 0.0001])"
   ]
  },
  {
   "cell_type": "markdown",
   "metadata": {},
   "source": [
    "If we look at the simulation now, we can see that the particles \"wander\" rather than following straight line paths."
   ]
  },
  {
   "cell_type": "code",
   "execution_count": null,
   "metadata": {},
   "outputs": [],
   "source": [
    "pf = ParticleFilter(prior_fn=prior_fn, n_particles=100, dynamics_fn=dynamics, noise_fn=noise)        \n",
    "c = FilterCanvas(pf)\n",
    "c.draw()\n",
    "c.start()"
   ]
  },
  {
   "cell_type": "markdown",
   "metadata": {},
   "source": [
    "### Observation\n",
    "\n",
    "So far, we have a forward model: a data generating process that behaves as we expect the hidden state to behave. We need to implement the *corrector* step. To do this, we introduce observations, and specify a function that tells us: given a hidden (latent) state, how likely is this observation? We do this by simply comparing each hypothesised observation against the real one, and weighting the result according to how close they are.\n",
    "\n",
    "We'll assume all we can see is the mouse position at a given instant."
   ]
  },
  {
   "cell_type": "code",
   "execution_count": null,
   "metadata": {},
   "outputs": [],
   "source": [
    "def observe(x):\n",
    "    # return what we *expect* to observe, given the hypotheses we have\n",
    "    direction = np.sign(np.where(np.abs(x[:,0])<0.5, 0, x[:,0]))\n",
    "    return np.where(direction==0, np.random.uniform(-1,1,direction.shape), x[:, 1] * direction)\n",
    "\n",
    "def weight(x, y):\n",
    "    return squared_error(x, y, sigma=0.005)"
   ]
  },
  {
   "cell_type": "code",
   "execution_count": null,
   "metadata": {},
   "outputs": [],
   "source": [
    "pf = ParticleFilter(prior_fn=prior_fn, n_particles=200, dynamics_fn=dynamics, noise_fn=noise, observe_fn=observe,\n",
    "                   weight_fn=weight, resample_proportion=0.01)        \n",
    "c = FilterCanvas(pf, observing=True)\n",
    "c.draw()\n",
    "c.start()"
   ]
  },
  {
   "cell_type": "markdown",
   "metadata": {},
   "source": [
    "## Applying"
   ]
  },
  {
   "cell_type": "code",
   "execution_count": null,
   "metadata": {},
   "outputs": [],
   "source": []
  },
  {
   "cell_type": "markdown",
   "metadata": {},
   "source": [
    "## Reflection\n",
    "### What did we gain?\n",
    "* We were able to track gestures even with not-very-reliable mouse input.\n",
    "* We maintained uncertainty, and could choose to actuate gestures actions when we were quantifiably sure the intention was there.\n",
    "* We could display uncertainty in estimation to the user.\n",
    "* We could also predict the future: this could be useful for display or to reduce apparent latency.\n",
    "### What was difficult?\n",
    "* The filter can be tricky to tune, particularly in weighting the hypothesised sensor values against the real ones\n",
    "* A sample based approach is easy to understand, but isn't the most efficient, and the quality of interaction depends on the sample number.\n",
    "* Any time we are dealing with uncertainty in the loop we have to find ways of reflecting that to the user -- doing so in effectively can be challenging.\n",
    "\n",
    "### What else could we do?\n",
    "* We could obviously extend this to much more complex gestures, or other input devices.\n",
    "* We could use the uncertainty more intelligently in the interaction\n",
    "* We could take better advantage of the fact we don't have to be locked to real-time"
   ]
  },
  {
   "cell_type": "code",
   "execution_count": null,
   "metadata": {},
   "outputs": [],
   "source": []
  }
 ],
 "metadata": {
  "kernelspec": {
   "display_name": "Python 3 (ipykernel)",
   "language": "python",
   "name": "python3"
  },
  "language_info": {
   "codemirror_mode": {
    "name": "ipython",
    "version": 3
   },
   "file_extension": ".py",
   "mimetype": "text/x-python",
   "name": "python",
   "nbconvert_exporter": "python",
   "pygments_lexer": "ipython3",
   "version": "3.9.7"
  },
  "toc": {
   "base_numbering": 1,
   "nav_menu": {},
   "number_sections": true,
   "sideBar": true,
   "skip_h1_title": false,
   "title_cell": "Table of Contents",
   "title_sidebar": "Contents",
   "toc_cell": false,
   "toc_position": {},
   "toc_section_display": true,
   "toc_window_display": false
  },
  "varInspector": {
   "cols": {
    "lenName": 16,
    "lenType": 16,
    "lenVar": 40
   },
   "kernels_config": {
    "python": {
     "delete_cmd_postfix": "",
     "delete_cmd_prefix": "del ",
     "library": "var_list.py",
     "varRefreshCmd": "print(var_dic_list())"
    },
    "r": {
     "delete_cmd_postfix": ") ",
     "delete_cmd_prefix": "rm(",
     "library": "var_list.r",
     "varRefreshCmd": "cat(var_dic_list()) "
    }
   },
   "types_to_exclude": [
    "module",
    "function",
    "builtin_function_or_method",
    "instance",
    "_Feature"
   ],
   "window_display": false
  }
 },
 "nbformat": 4,
 "nbformat_minor": 2
}
