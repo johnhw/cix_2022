{
 "cells": [
  {
   "cell_type": "code",
   "execution_count": null,
   "metadata": {},
   "outputs": [],
   "source": [
    "import pandas as pd \n",
    "import numpy as np\n",
    "import scipy.stats as ss\n",
    "\n",
    "import matplotlib as mpl\n",
    "import matplotlib.pyplot as plt\n",
    "import numpy as np\n",
    "\n",
    "# set some styling defaults for matplotlib\n",
    "plt.style.use(\"seaborn-talk\")\n",
    "mpl.rcParams[\"figure.dpi\"] = 90  # change this to set apparent figure size\n",
    "mpl.rcParams[\"figure.figsize\"] = (7, 3)\n",
    "mpl.rcParams[\"figure.frameon\"] = False\n",
    "\n",
    "# set decimal precision to 3 dec. places\n",
    "%precision 3"
   ]
  },
  {
   "cell_type": "code",
   "execution_count": null,
   "metadata": {},
   "outputs": [],
   "source": [
    "# %pip install pfilter\n",
    "# uncomment and run the above if you don't have pfilter installed"
   ]
  },
  {
   "cell_type": "code",
   "execution_count": null,
   "metadata": {},
   "outputs": [],
   "source": [
    "from pfilter import ParticleFilter"
   ]
  },
  {
   "cell_type": "markdown",
   "metadata": {},
   "source": [
    "# Example 1: probabilistic filters\n",
    "\n",
    "## Outcomes\n",
    "You will understand:\n",
    "* How probabilistic filtering works\n",
    "    * How to implement basic probabilistic filters\n",
    "    * How filtering can be used to extract hidden states\n",
    "    * How filtering can extend to intention inference\n",
    "    "
   ]
  },
  {
   "cell_type": "markdown",
   "metadata": {},
   "source": [
    "# Inference via filtering [30 mins]\n",
    "\n",
    "## Goal\n",
    "* Estimate a hidden state in a continuous process from a stream of observations.\n",
    "* Be able to deal with missing or noisy observations.\n",
    "* Be able to project forward into the future as needed.\n",
    "* Be able to quantify uncertainty and the expected value of possible states.\n",
    "\n",
    "## Process\n",
    "* We build a **filter**, which in this context means a process that combines observations that occur sequentially.\n",
    "    * Note: it's not really the same as a filter in the sense of signal processing, though the concept of processing sequential signals is the same.\n",
    "    \n",
    "* The data generating process is assumed to have some temporal coherence; predictions of the future depend on past states.\n",
    "    * Typically, we make a Markov assumption: that the current unobserved state encodes everything we know about the next state.\n",
    "    \n",
    "### Predictor-corrector\n",
    "\n",
    "The concept is simple: we first build a model that just predicts what we think might be going on -- a pure simulator. Then we can take observations and use them to \"filter out\" predictions that are unrealistic. This is formulated as a Bayesian belief update.\n",
    "\n",
    "* Prior at time t + evidence at time t -> posterior at time t\n",
    "\n",
    "$$P(X_{t+1}|Y_t, X_t) \\propto P(Y_t | X_{t+1}) P(X_{t+1})$$\n",
    "$$P(X_{t+1}|Y_t, X_t) \\propto P(Y_t | X_{t+1}) P(X_{t})$$\n",
    "\n",
    "* (we don't typically care about normalising this distribution, we just want to track *relative* likelihoods of hypotheses)"
   ]
  },
  {
   "cell_type": "markdown",
   "metadata": {},
   "source": [
    "    \n",
    "\n",
    "## Package: `pfilter`\n",
    "\n",
    "## Setup\n",
    "\n",
    "## Applying\n",
    "\n",
    "## Reflection"
   ]
  }
 ],
 "metadata": {
  "language_info": {
   "name": "python"
  },
  "orig_nbformat": 4
 },
 "nbformat": 4,
 "nbformat_minor": 2
}
