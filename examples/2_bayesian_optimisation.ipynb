{
 "cells": [
  {
   "cell_type": "code",
   "execution_count": null,
   "metadata": {},
   "outputs": [],
   "source": [
    "import pandas as pd \n",
    "import numpy as np\n",
    "import scipy.stats as ss\n",
    "\n",
    "import matplotlib as mpl\n",
    "import matplotlib.pyplot as plt\n",
    "import numpy as np\n",
    "\n",
    "# set some styling defaults for matplotlib\n",
    "plt.style.use(\"seaborn-talk\")\n",
    "mpl.rcParams[\"figure.dpi\"] = 90  # change this to set apparent figure size\n",
    "mpl.rcParams[\"figure.figsize\"] = (7, 3)\n",
    "mpl.rcParams[\"figure.frameon\"] = False\n",
    "\n",
    "# set decimal precision to 3 dec. places\n",
    "%precision 3"
   ]
  },
  {
   "cell_type": "code",
   "execution_count": null,
   "metadata": {},
   "outputs": [],
   "source": [
    "# %pip install scikit-optimize\n",
    "# uncomment and run the above if you don't have skopt installed"
   ]
  },
  {
   "cell_type": "code",
   "execution_count": null,
   "metadata": {},
   "outputs": [],
   "source": [
    "import skopt"
   ]
  },
  {
   "cell_type": "markdown",
   "metadata": {},
   "source": [
    "# Bayesian optimisation\n",
    "\n",
    "## Outcomes\n",
    "* How Bayesian optimisation works\n",
    "    * How to build proxy functions \n",
    "    * How to choose acquisition functions \n",
    "    * How to apply BO to problems of tuning"
   ]
  },
  {
   "cell_type": "markdown",
   "metadata": {},
   "source": [
    "# Bayesian optimisation [20 mins]\n",
    "\n",
    "## Goal\n",
    "* Formulate a problem as a mapping from parameters (things we can adjust) to an objective (a single numerical measure of goodness) \n",
    "    * This is an \"objective function\" \n",
    "* Optimise (i.e. tweak parameters) to maximise the objective function; this should maximise the goodness of our configuration.\n",
    "* *Do this without knowing what the objective function is!*\n",
    "* Instead, make measurements of the real world for a few specific, definite values of the parameters.\n",
    "* Spend the least time possible making measurements.\n",
    "* Cope with the face that the real world is noisy.\n",
    "\n",
    "## Process\n",
    "\n",
    "## Package: `skopt`\n",
    "`skopt` is a fairly basic package, but it makes it easy to implement basic Bayesian optimisation.\n",
    "\n",
    "## Setup\n",
    "\n",
    "## Applying\n",
    "\n",
    "## Reflection"
   ]
  }
 ],
 "metadata": {
  "language_info": {
   "name": "python"
  },
  "orig_nbformat": 4
 },
 "nbformat": 4,
 "nbformat_minor": 2
}
