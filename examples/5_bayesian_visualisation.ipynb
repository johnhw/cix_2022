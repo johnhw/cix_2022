{
 "cells": [
  {
   "cell_type": "code",
   "execution_count": null,
   "id": "02bd63ee",
   "metadata": {},
   "outputs": [],
   "source": [
    "import pandas as pd \n",
    "import numpy as np\n",
    "import scipy.stats as ss\n",
    "\n",
    "import matplotlib as mpl\n",
    "import matplotlib.pyplot as plt\n",
    "import numpy as np\n",
    "\n",
    "# set some styling defaults for matplotlib\n",
    "plt.style.use(\"seaborn-talk\")\n",
    "mpl.rcParams[\"figure.dpi\"] = 90  # change this to set apparent figure size\n",
    "mpl.rcParams[\"figure.figsize\"] = (7, 3)\n",
    "mpl.rcParams[\"figure.frameon\"] = False\n",
    "\n",
    "# set decimal precision to 3 dec. places\n",
    "%precision 3\n",
    "import arviz as az"
   ]
  },
  {
   "cell_type": "markdown",
   "id": "4db77d91",
   "metadata": {},
   "source": [
    "# Example 3: Bayesian visualsiation\n",
    "## Outcomes\n",
    "You will know how to:\n",
    "\n",
    "* How to explore and visualise posterior distributions that result from Bayesian analysis.\n",
    "* Use basic visualisations of uncertainty to represent distributions.\n",
    "* How to apply animation in representing distributions.\n",
    "* Use interaction to explore posterior distributions by conditioning on variables."
   ]
  },
  {
   "cell_type": "markdown",
   "id": "e4ebd549",
   "metadata": {},
   "source": [
    "## Goals\n",
    "\n",
    "## Task\n",
    "We will visualise the results of the hierarchical model of Fitts' law that included per-participant a,b coefficients. This is a relatively simple model, but it can still be hard to understand the implications of the posterior distribution that results from a Bayesian analysis.\n",
    "\n",
    "## Process\n",
    "\n",
    "## Package\n",
    "We'll use a mix of `seaborn`, `matplotlib`, `arviz` and `ipywidgets`\n",
    "\n",
    "## Setup\n",
    "We'll load the posterior distribution from the very end of the Bayesian analysis example. I've stored this in a CSV file, ready for use:"
   ]
  },
  {
   "cell_type": "code",
   "execution_count": null,
   "id": "862934ae",
   "metadata": {},
   "outputs": [],
   "source": [
    "posterior = pd.read_csv(\"fitts_pooled_model.csv\")\n",
    "posterior.head()"
   ]
  },
  {
   "cell_type": "markdown",
   "id": "6cd37f8c",
   "metadata": {},
   "source": [
    "For the moment, we'll just focus on representing $b$, the slope of the MT:ID line."
   ]
  },
  {
   "cell_type": "markdown",
   "id": "b7a163a5",
   "metadata": {},
   "source": [
    "## Applying\n",
    "\n",
    "### Static\n",
    "\n",
    "#### No uncertainty\n",
    "#### Error bars\n",
    "#### Box plot\n",
    "#### Violin, box and rug plot\n",
    "#### Dot quantile\n",
    "\n",
    "### Animated\n",
    "#### Hypothetical outcome plots\n",
    "#### Ballistic HOPs\n",
    "\n",
    "### Interactive\n",
    "#### Slicing posteriors"
   ]
  },
  {
   "cell_type": "markdown",
   "id": "03b7ea8f",
   "metadata": {},
   "source": [
    "## Reflection\n",
    "\n",
    "### What was gained?\n",
    "* We could visualise the uncertainty and quantify our confidence in the estimates\n",
    "* Animation helps spread out the information over time, and also brings a visceral sense of variation\n",
    "* Interaction can help reduce \"slice\" up the posterior into more manageable chunks, and give a clearer sense of *conditional* relationships within a posterior.\n",
    "### What were the challenges?\n",
    "* Lots of choices for visualisation of uncertainty, and not always obvious which one to use\n",
    "* Scaling to a posterior with more dimensions would be challenging to do\n",
    "* Even with these techniques, its obvious the posterior of even a simple Bayesian analysis can be quite complex to deal with.\n",
    "### What else could we have done\n",
    "\n"
   ]
  }
 ],
 "metadata": {
  "kernelspec": {
   "display_name": "Python 3 (ipykernel)",
   "language": "python",
   "name": "python3"
  },
  "language_info": {
   "codemirror_mode": {
    "name": "ipython",
    "version": 3
   },
   "file_extension": ".py",
   "mimetype": "text/x-python",
   "name": "python",
   "nbconvert_exporter": "python",
   "pygments_lexer": "ipython3",
   "version": "3.9.7"
  },
  "toc": {
   "base_numbering": 1,
   "nav_menu": {},
   "number_sections": true,
   "sideBar": true,
   "skip_h1_title": false,
   "title_cell": "Table of Contents",
   "title_sidebar": "Contents",
   "toc_cell": false,
   "toc_position": {},
   "toc_section_display": true,
   "toc_window_display": false
  },
  "varInspector": {
   "cols": {
    "lenName": 16,
    "lenType": 16,
    "lenVar": 40
   },
   "kernels_config": {
    "python": {
     "delete_cmd_postfix": "",
     "delete_cmd_prefix": "del ",
     "library": "var_list.py",
     "varRefreshCmd": "print(var_dic_list())"
    },
    "r": {
     "delete_cmd_postfix": ") ",
     "delete_cmd_prefix": "rm(",
     "library": "var_list.r",
     "varRefreshCmd": "cat(var_dic_list()) "
    }
   },
   "types_to_exclude": [
    "module",
    "function",
    "builtin_function_or_method",
    "instance",
    "_Feature"
   ],
   "window_display": false
  }
 },
 "nbformat": 4,
 "nbformat_minor": 5
}
