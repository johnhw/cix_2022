{
 "cells": [
  {
   "cell_type": "markdown",
   "id": "5ac2954f",
   "metadata": {},
   "source": [
    "# Why? [10 minutes]\n",
    "\n",
    "\n",
    "Why are we talking about Bayesian methods? What are they, and how do they address challenges in human-computer interaction?\n",
    "\n",
    "\n",
    "## Scenarios of use\n",
    "\n",
    "## Example video\n"
   ]
  },
  {
   "cell_type": "markdown",
   "id": "63ac2d2a",
   "metadata": {},
   "source": [
    "# Bayesian Methods for Interaction and Design\n",
    "\n",
    "\n",
    "\n",
    "J. H. Williamson, A. Oulasvirta, P. O. Kristensson, N. Banovic"
   ]
  },
  {
   "cell_type": "markdown",
   "id": "f73af112",
   "metadata": {},
   "source": [
    "## Interactive elements\n",
    "\n",
    "Interact via `sli.do/xxx`\n",
    "\n",
    "* **You can always just ask questions verbally!**\n",
    "* If you want to ask questions *anonymously*, use sli.do.\n",
    "* We'll also have some polls via `sli.do`, so please keep it open in a tab.\n",
    "\n",
    "## Notebooks\n",
    "\n",
    "All of the notes for this course are executable Jupyter notebooks, using Python. See [readme.md](readme.md) for installation and setup instructions.\n"
   ]
  },
  {
   "cell_type": "markdown",
   "id": "567e475f",
   "metadata": {},
   "source": [
    "## Timeline\n",
    "\n",
    "* 0930-0945 [I: Introduction and outline]\n",
    "* 0945-1045 [IIa: Introduction to Bayesian methods]\n",
    "* 1100-1200 [IIb: Discussion of Bayesian methods in interaction]\n",
    "* 1200-1300 Lunch + [Discussion task]\n",
    "* 1300-1400 [III: Optimisation, filtering and analysis]\n",
    "* 1300-1400 [IVa: Setup for practical task]\n",
    "* 1430-1530 Geraldine's talk\n",
    "* 1530-1700 [IVb: Practical task]"
   ]
  },
  {
   "cell_type": "markdown",
   "id": "b34dfdb2",
   "metadata": {},
   "source": [
    "## Unit structure\n",
    "\n",
    "Each hour block has:\n",
    "* 5 minute opening\n",
    "* 2 minute poll\n",
    "* 15 minutes material\n",
    "* 2 minute quiz\n",
    "* 15 minutes material\n",
    "* 2 minute quiz\n",
    "* 15 minutes practical \n",
    "* 3 minutes wrap up "
   ]
  },
  {
   "cell_type": "markdown",
   "id": "e7fb5cb1",
   "metadata": {},
   "source": [
    "# Theory\n",
    "\n",
    "## Poll\n",
    "\n",
    "* What's your research interest? [free text]\n",
    "\n",
    "* What do you hope to get out of today? [free text]\n",
    "\n",
    "* What is probability? \n",
    "    * A quantification of a degree of belief\n",
    "    * A long-run frequency of some event\n",
    "    * A number that measures a degree of truth\n",
    "    * A number between 0 and 1\n",
    "\n",
    "* Do you know what a probability distribution is?\n",
    "    * I have no idea or a very shaky one.\n",
    "    * I have a vague idea that it relates outcomes to how likely they are.\n",
    "    * I am familiar with the idea and know the basic mathematical properties (sums/integrates to one, etc.)\n",
    "    * I am very familiar with distributions, and understand mass/density functions, CDFs, entropy, sampling, multivariate distributions, etc.\n",
    "    * I am an expert in probability distributions, and I understand how to implement and work with continuous distributions, mixtures, infinite distributions (like GPs).\n",
    "\n",
    "* Which of these have you used? \n",
    "    * Python\n",
    "    * Jupyter/NumPy/matplotlib/etc.\n",
    "    * A Kalman filter (or EKF, UKF, particle filter)\n",
    "    * A Gaussian process model (e.g. with `scikit-learn`, `GPy`)\n",
    "    * An MCMC sampler (PyMC, Stan, WinBUGS, JAGS, Turing, etc.)\n",
    "    * Bayesian optimisation (e.g. with `bayesopt`)\n",
    "    * Bayesian regression (e.g. Bayesian GLMs)\n",
    "    * Bayesian clustering (e.g. latent Dirichlet models)\n",
    "    \n",
    "\n",
    "* Can you define Bayes' rule?\n",
    "    * No, I can't.\n",
    "    * I can give a rough verbal description.\n",
    "    * I can write the equation.\n",
    "    * I can write th equation, and I understand what each part means.\n",
    "    * I can write the equation, and I understand what each part means, and I know how to computationally implement models with it.\n",
    "\n",
    "* How well do you understand Bayesian statistics?\n",
    "  * Literally just heard of it.\n",
    "  * I have heard of it, but it is a mysterious topic.\n",
    "  * I am familiar with some of the concepts, but I've never really used it or got to the bottom of it.\n",
    "  * I am familiar with Bayesian models, and I've used them to some degree.\n",
    "  * I am very familiar with Bayesian models; I can use an MCMC sampler, I can define and interpret Bayesian models (e.g. Bayesian linear regression)\n",
    "  * I am an expert in Bayesian modelling; I can apply variational/conjugate methods to new problems, implement and use sophisticated models (e.g. partial-pooling models, Gaussian processes, probabilistic filters)\n",
    "\n",
    "* How well do you know how to *apply Bayesian methods to HCI*?\n",
    "  * I don't know enough about Bayesian methods to use them.\n",
    "  * I've never thought of doing so.\n",
    "  * I've thought about/read something about it, but in not much depth.\n",
    "  * I've got some ideas where I think it would be useful, but not tried much application.\n",
    "  * I've applied Bayesian models to some HCI problem.\n",
    "  * I'm an expert in applying Bayesian models in HCI (e.g. I've published a paper on the topic).\n",
    "\n",
    "\n",
    "\n",
    "## How we code with probabilities\n",
    "\n",
    "## Probability\n",
    "\n",
    "### What is probability?\n",
    "\n",
    "## Random variables and distributions\n",
    "\n",
    "## Sampling\n",
    "\n",
    "## Joint, marginal, conditional\n",
    "\n",
    " "
   ]
  },
  {
   "cell_type": "markdown",
   "id": "7c768924",
   "metadata": {},
   "source": []
  }
 ],
 "metadata": {
  "kernelspec": {
   "display_name": "Python 3 (ipykernel)",
   "language": "python",
   "name": "python3"
  },
  "language_info": {
   "codemirror_mode": {
    "name": "ipython",
    "version": 3
   },
   "file_extension": ".py",
   "mimetype": "text/x-python",
   "name": "python",
   "nbconvert_exporter": "python",
   "pygments_lexer": "ipython3",
   "version": "3.8.12"
  },
  "varInspector": {
   "cols": {
    "lenName": 16,
    "lenType": 16,
    "lenVar": 40
   },
   "kernels_config": {
    "python": {
     "delete_cmd_postfix": "",
     "delete_cmd_prefix": "del ",
     "library": "var_list.py",
     "varRefreshCmd": "print(var_dic_list())"
    },
    "r": {
     "delete_cmd_postfix": ") ",
     "delete_cmd_prefix": "rm(",
     "library": "var_list.r",
     "varRefreshCmd": "cat(var_dic_list()) "
    }
   },
   "types_to_exclude": [
    "module",
    "function",
    "builtin_function_or_method",
    "instance",
    "_Feature"
   ],
   "window_display": false
  }
 },
 "nbformat": 4,
 "nbformat_minor": 5
}
