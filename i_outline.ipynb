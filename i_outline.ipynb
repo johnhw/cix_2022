{
 "cells": [
  {
   "cell_type": "markdown",
   "id": "5ac2954f",
   "metadata": {},
   "source": [
    "# Who?\n",
    "\n",
    "I'm John H. Williamson, from the University of Glasgow. \n",
    "\n",
    "* I organised the very first Summer School on Computational Interaction (back in 2015)\n",
    "* I'm interested in computational approaches to HCI, particularly probabilistic and Bayesian methods.\n",
    "* I've been doing research in this area for a very long time (~20 years!)\n",
    "\n",
    "\n",
    "# Why? [10 minutes]\n",
    "\n",
    "\n",
    "Why are we talking about Bayesian methods? What are they, and how do they address challenges in human-computer interaction?\n",
    "\n",
    "## How does this relate to computational interaction?\n",
    "\n",
    "\n",
    "## Scenarios of use\n",
    "\n",
    "## Example video\n"
   ]
  },
  {
   "cell_type": "markdown",
   "id": "63ac2d2a",
   "metadata": {},
   "source": [
    "# Bayesian Methods for Interaction and Design\n",
    "![Bayesian Methods for Interaction and Design](imgs/bayes_book_cover.PNG)\n",
    "* **Cambridge University Press**, release date August 2022\n",
    "* Edited by: J. H. Williamson [Today!], A. Oulasvirta [Friday], P. O. Kristensson, N. Banovic [Wednesday]"
   ]
  },
  {
   "cell_type": "markdown",
   "id": "f73af112",
   "metadata": {},
   "source": [
    "## Interactive elements\n",
    "\n",
    "Interact via `sli.do/xxx`\n",
    "\n",
    "* **You can always just ask questions verbally!**\n",
    "* If you want to ask questions *anonymously*, use sli.do.\n",
    "* We'll also have some polls via `sli.do`, so please keep it open in a tab.\n",
    "\n",
    "## Notebooks\n",
    "\n",
    "All of the notes for this course are executable Jupyter notebooks, using Python. See [readme.md](readme.md) for installation and setup instructions.\n"
   ]
  },
  {
   "cell_type": "markdown",
   "id": "567e475f",
   "metadata": {},
   "source": [
    "## Timeline\n",
    "\n",
    "* 0930-0945 [I: Introduction and outline]\n",
    "* 0945-1045 [II: Introduction to Bayesian methods]\n",
    "* 1100-1200 [III: Discussion of Bayesian methods in interaction]\n",
    "* 1200-1300 Lunch + [Discussion task]\n",
    "* 1300-1400 [IV: Optimisation, filtering and analysis]\n",
    "* 1300-1400 [V: Setup for practical task]\n",
    "* 1430-1530 Geraldine's talk\n",
    "* 1530-1700 [Practical task]"
   ]
  },
  {
   "cell_type": "markdown",
   "id": "b34dfdb2",
   "metadata": {},
   "source": [
    "## Unit structure\n",
    "\n",
    "Each hour block has:\n",
    "* 5 minute opening\n",
    "* 2 minute poll\n",
    "* 15 minutes material\n",
    "* 2 minute quiz\n",
    "* 15 minutes material\n",
    "* 2 minute quiz\n",
    "* 15 minutes practical \n",
    "* 3 minutes wrap up "
   ]
  },
  {
   "cell_type": "markdown",
   "id": "e7fb5cb1",
   "metadata": {},
   "source": []
  },
  {
   "cell_type": "markdown",
   "id": "7c768924",
   "metadata": {},
   "source": []
  }
 ],
 "metadata": {
  "kernelspec": {
   "display_name": "Python 3 (ipykernel)",
   "language": "python",
   "name": "python3"
  },
  "language_info": {
   "codemirror_mode": {
    "name": "ipython",
    "version": 3
   },
   "file_extension": ".py",
   "mimetype": "text/x-python",
   "name": "python",
   "nbconvert_exporter": "python",
   "pygments_lexer": "ipython3",
   "version": "3.8.12"
  },
  "varInspector": {
   "cols": {
    "lenName": 16,
    "lenType": 16,
    "lenVar": 40
   },
   "kernels_config": {
    "python": {
     "delete_cmd_postfix": "",
     "delete_cmd_prefix": "del ",
     "library": "var_list.py",
     "varRefreshCmd": "print(var_dic_list())"
    },
    "r": {
     "delete_cmd_postfix": ") ",
     "delete_cmd_prefix": "rm(",
     "library": "var_list.r",
     "varRefreshCmd": "cat(var_dic_list()) "
    }
   },
   "types_to_exclude": [
    "module",
    "function",
    "builtin_function_or_method",
    "instance",
    "_Feature"
   ],
   "window_display": false
  }
 },
 "nbformat": 4,
 "nbformat_minor": 5
}
