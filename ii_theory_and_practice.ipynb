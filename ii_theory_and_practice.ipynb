{
 "cells": [
  {
   "cell_type": "markdown",
   "metadata": {},
   "source": [
    "# Theory and practice\n",
    "\n",
    "## Poll\n",
    "\n",
    "## What are Bayesian methods?\n",
    "\n",
    "## How we code with probabilities\n",
    "\n",
    "## Data Generating Processes\n",
    "\n",
    "## What are Bayesian methods?\n",
    "\n",
    "## Probability\n",
    "\n",
    "### What is probability?\n",
    "\n",
    "## Random variables and distributions\n",
    "\n",
    "## Sampling\n",
    "\n",
    "## Joint, marginal, conditional\n",
    "\n",
    "## What are Bayesian methods?\n",
    "\n",
    "## Inference approaches\n",
    "\n",
    "## What are Bayesian methods?\n"
   ]
  }
 ],
 "metadata": {
  "language_info": {
   "name": "python"
  }
 },
 "nbformat": 4,
 "nbformat_minor": 2
}
