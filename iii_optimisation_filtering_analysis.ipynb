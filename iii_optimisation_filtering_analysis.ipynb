{
 "cells": [
  {
   "cell_type": "markdown",
   "metadata": {},
   "source": [
    "# IV: Applied Bayesian models\n",
    "## Outcomes\n",
    "\n",
    "You will understand:\n",
    "* How probabilistic filtering works\n",
    "    * How to implement basic probabilistic filters\n",
    "    * How filtering can be used to extract hidden states\n",
    "    * How filtering can extend to intention inference\n",
    "    \n",
    "* How Bayesian optimisation works\n",
    "    * How to build proxy functions \n",
    "    * How to choose acquisition functions \n",
    "    * How to apply BO to problems of tuning\n",
    "    \n",
    "* How to analyse experimental results from a Bayesian perspective\n",
    "    * How to build a model\n",
    "    * How to select priors\n",
    "    * How to apply inference\n",
    "    * How to interpret and report results    \n",
    "\n",
    "\n",
    "# Scenario [10 mins]\n",
    "\n",
    "## Demo\n",
    "\n",
    "## Problems to address"
   ]
  },
  {
   "cell_type": "markdown",
   "metadata": {},
   "source": [
    "# Inference via filtering [30 mins]\n",
    "\n",
    "## Goal\n",
    "* Estimate a hidden state in a continuous process from a stream of observations.\n",
    "* Be able to deal with missing or noisy observations.\n",
    "* Be able to project forward into the future as needed.\n",
    "* Be able to quantify uncertainty and the expected value of possible states.\n",
    "\n",
    "## Process\n",
    "* We build a **filter**, which in this context means a process that combines observations that occur sequentially.\n",
    "    * Note: it's not really the same as a filter in the sense of signal processing, though the concept of processing sequential signals is the same.\n",
    "    \n",
    "* The data generating process is assumed to have some temporal coherence; predictions of the future depend on past states.\n",
    "    * Typically, we make a Markov assumption: that the current unobserved state encodes everything we know about the next state.\n",
    "    \n",
    "### Predictor-corrector\n",
    "\n",
    "The concept is simple: we first build a model that just predicts what we think might be going on -- a pure simulator. Then we can take observations and use them to \"filter out\" predictions that are unrealistic. This is formulated as a Bayesian belief update.\n",
    "\n",
    "* Prior at time t + evidence at time t -> posterior at time t\n",
    "\n",
    "$$P(X_{t+1}|Y_t, X_t) \\propto P(Y_t | X_{t+1}) P(X_{t+1})$$\n",
    "$$P(X_{t+1}|Y_t, X_t) \\propto P(Y_t | X_{t+1}) P(X_{t})$$\n",
    "\n",
    "* (we don't typically care about normalising this distribution, we just want to track *relative* likelihoods of hypotheses)"
   ]
  },
  {
   "cell_type": "markdown",
   "metadata": {},
   "source": [
    "    \n",
    "\n",
    "## Package: `pfilter`\n",
    "\n",
    "## Setup\n",
    "\n",
    "## Applying\n",
    "\n",
    "## Reflection"
   ]
  },
  {
   "cell_type": "markdown",
   "metadata": {},
   "source": [
    "# Bayesian optimisation [20 mins]\n",
    "\n",
    "## Goal\n",
    "* Formulate a problem as a mapping from parameters (things we can adjust) to an objective (a single numerical measure of goodness) \n",
    "    * This is an \"objective function\" \n",
    "* Optimise (i.e. tweak parameters) to maximise the objective function; this should maximise the goodness of our configuration.\n",
    "* *Do this without knowing what the objective function is!*\n",
    "* Instead, make measurements of the real world for a few specific, definite values of the parameters.\n",
    "* Spend the least time possible making measurements.\n",
    "* Cope with the face that the real world is noisy.\n",
    "\n",
    "## Process\n",
    "\n",
    "## Package: `skopt`\n",
    "`skopt` is a fairly basic package, but it makes it easy to implement basic Bayesian optimisation.\n",
    "\n",
    "## Setup\n",
    "\n",
    "## Applying\n",
    "\n",
    "## Reflection\n"
   ]
  },
  {
   "cell_type": "markdown",
   "metadata": {},
   "source": [
    "# Bayesian analysis [30 mins]\n",
    "\n",
    "## Goal\n",
    "\n",
    "## Process\n",
    "\n",
    "## Package: `pymc3`\n",
    "\n",
    "## Setup\n",
    "\n",
    "## Applying\n",
    "\n",
    "## Reflection"
   ]
  },
  {
   "cell_type": "markdown",
   "metadata": {},
   "source": [
    "# Reflection [After the break]\n",
    "\n",
    "### What did we gain?\n",
    "### What did we lose?\n",
    "### What did we have to think of?\n",
    "### What problems made this hard?"
   ]
  }
 ],
 "metadata": {
  "kernelspec": {
   "display_name": "Python 3 (ipykernel)",
   "language": "python",
   "name": "python3"
  },
  "language_info": {
   "codemirror_mode": {
    "name": "ipython",
    "version": 3
   },
   "file_extension": ".py",
   "mimetype": "text/x-python",
   "name": "python",
   "nbconvert_exporter": "python",
   "pygments_lexer": "ipython3",
   "version": "3.8.12"
  },
  "toc": {
   "base_numbering": 1,
   "nav_menu": {},
   "number_sections": true,
   "sideBar": true,
   "skip_h1_title": false,
   "title_cell": "Table of Contents",
   "title_sidebar": "Contents",
   "toc_cell": false,
   "toc_position": {},
   "toc_section_display": true,
   "toc_window_display": false
  },
  "varInspector": {
   "cols": {
    "lenName": 16,
    "lenType": 16,
    "lenVar": 40
   },
   "kernels_config": {
    "python": {
     "delete_cmd_postfix": "",
     "delete_cmd_prefix": "del ",
     "library": "var_list.py",
     "varRefreshCmd": "print(var_dic_list())"
    },
    "r": {
     "delete_cmd_postfix": ") ",
     "delete_cmd_prefix": "rm(",
     "library": "var_list.r",
     "varRefreshCmd": "cat(var_dic_list()) "
    }
   },
   "types_to_exclude": [
    "module",
    "function",
    "builtin_function_or_method",
    "instance",
    "_Feature"
   ],
   "window_display": false
  }
 },
 "nbformat": 4,
 "nbformat_minor": 2
}
