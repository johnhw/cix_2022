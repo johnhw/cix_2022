{
 "cells": [
  {
   "cell_type": "markdown",
   "metadata": {},
   "source": [
    "# IV: Applied Bayesian models\n",
    "## Outcomes\n",
    "\n",
    "You will understand:\n",
    "* How probabilistic filtering works\n",
    "    * How to implement basic probabilistic filters\n",
    "    * How filtering can be used to extract hidden states\n",
    "    * How filtering can extend to intention inference\n",
    "* How Bayesian optimisation works\n",
    "    * How to build proxy functions \n",
    "    * How to choose acquisition functions \n",
    "    * How to apply BO to problems of tuning\n",
    "* How to analyse experimental results from a Bayesian perspective\n",
    "    * How to build a model\n",
    "    * How to select priors\n",
    "    * How to apply inference\n",
    "    * How to interpret and report results    \n",
    "\n",
    "\n",
    "# Scenario\n",
    "\n",
    "## Demo\n",
    "\n",
    "## Problems to address\n",
    "\n",
    "# Bayesian approaches\n",
    "\n",
    "## Infer, probabilistically\n",
    "\n",
    "## Parameterise and optimise\n",
    "\n",
    "## Analyse, Bayesian-style \n",
    "\n",
    "## Reflection\n",
    "### What did we gain?\n",
    "### What did we lose?\n",
    "### What did we have to think of?\n",
    "### What problems made this hard?\n",
    "\n"
   ]
  }
 ],
 "metadata": {
  "language_info": {
   "name": "python"
  }
 },
 "nbformat": 4,
 "nbformat_minor": 2
}
