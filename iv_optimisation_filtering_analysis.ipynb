{
 "cells": [
  {
   "cell_type": "markdown",
   "metadata": {},
   "source": [
    "# Applied Bayesian models\n",
    "\n",
    "## Infer, probabilistically\n",
    "\n",
    "## Parameterise and optimise\n",
    "\n",
    "## Analyse, Bayesian-style \n",
    "\n",
    "## Reflection\n",
    "### What did we gain?\n",
    "### What did we lose?\n",
    "### What did we have to think of?\n",
    "### What problems made this hard?\n",
    "\n"
   ]
  }
 ],
 "metadata": {
  "language_info": {
   "name": "python"
  }
 },
 "nbformat": 4,
 "nbformat_minor": 2
}
