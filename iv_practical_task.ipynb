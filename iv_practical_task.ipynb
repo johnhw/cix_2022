{
 "cells": [
  {
   "cell_type": "markdown",
   "metadata": {},
   "source": [
    "# Practical task\n",
    "\n",
    "## What's the goal?\n",
    "\n",
    "## How should you approach this?\n",
    "\n",
    "* There's a skeleton *non-Bayesian* version of the task already working and implemented\n",
    "* There are helper functions that can be plugged in to add Bayesian super powers\n",
    "* You need to work out how best to integrate them *and make them work to do useful interaction!*\n",
    "\n",
    "\n",
    "## First steps\n",
    "\n",
    "### Where to get the materials\n",
    "\n",
    "* From the repository at \n",
    "* `practical_exercise/` has the self-contained notebook (`bayesian_practice.ipynb`) + auxiliary files\n",
    "* Check you can run the exercise\n",
    "\n",
    "\n",
    "### Establishing a baseline\n",
    "\n",
    "\n",
    "### Planning your time\n",
    "\n",
    "\n",
    "\n",
    "\n"
   ]
  }
 ],
 "metadata": {
  "language_info": {
   "name": "python"
  }
 },
 "nbformat": 4,
 "nbformat_minor": 2
}
