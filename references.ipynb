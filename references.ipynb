{
 "cells": [
  {
   "cell_type": "markdown",
   "metadata": {},
   "source": [
    "# References and further reading\n",
    "\n",
    "## Blogs and online articles\n",
    "\n",
    "## Books on Bayesian statistics\n",
    "\n",
    "### Introductory\n",
    "\n",
    "### Intermediate\n",
    "\n",
    "### Advanced\n",
    "\n",
    "## Papers on Bayesian methods in HCI\n",
    "\n"
   ]
  }
 ],
 "metadata": {
  "language_info": {
   "name": "python"
  }
 },
 "nbformat": 4,
 "nbformat_minor": 2
}
